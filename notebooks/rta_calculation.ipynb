{
 "cells": [
  {
   "cell_type": "markdown",
   "id": "e0caa76f-ad81-4f0e-91e1-cd0a34642021",
   "metadata": {},
   "source": [
    "# Calculation of reflection, transmission, and absorption (RTA)"
   ]
  },
  {
   "cell_type": "markdown",
   "id": "a5e6c853-8196-4dd6-a24a-352d263d6781",
   "metadata": {},
   "source": [
    "This notebook demonstrates the general use of the transfermatrix package. As an illustration, the RTA calculation of different optical thin-film systems is shown in the following.     "
   ]
  },
  {
   "cell_type": "markdown",
   "id": "eae52f30-b17d-491e-91eb-e46101b0e880",
   "metadata": {},
   "source": [
    "## Example 1: air-glass interface"
   ]
  },
  {
   "cell_type": "code",
   "execution_count": 1,
   "id": "e304dbf2-fa60-4e2a-a759-a37ff8fb30e9",
   "metadata": {},
   "outputs": [],
   "source": [
    "# define optical constants and thicknesses\n",
    "\n",
    "from pathlib import Path\n",
    "\n",
    "materials_path = Path(\"materials\")\n",
    "glass = materials_path / \"glass.csv\"\n",
    "air = materials_path / \"air.csv\""
   ]
  },
  {
   "cell_type": "code",
   "execution_count": 2,
   "id": "cd285bd7-2406-40ab-8810-2dea3e46c63d",
   "metadata": {},
   "outputs": [],
   "source": [
    "# define callable that reads the optical constants\n",
    "\n",
    "import numpy as np\n",
    "from transfermatrix.input import OpticalConstants\n",
    "\n",
    "def nk_reader(path: Path) -> OpticalConstants:\n",
    "    wavelengths, n, k = np.loadtxt(path, skiprows=1, delimiter=\",\").T\n",
    "    return OpticalConstants(wavelengths=wavelengths, n=n, k=k)"
   ]
  },
  {
   "cell_type": "code",
   "execution_count": 3,
   "id": "e86c7950-031e-40e7-8865-ef2112c6d1bf",
   "metadata": {},
   "outputs": [],
   "source": [
    "# define layer stack\n",
    "\n",
    "from functools import partial\n",
    "from transfermatrix.input import Layer\n",
    "\n",
    "MyLayer = partial(Layer, nk_reader=nk_reader)\n",
    "\n",
    "layers = [\n",
    "    MyLayer(nk_file=air),\n",
    "    MyLayer(nk_file=glass, thickness=1.e6),\n",
    "]"
   ]
  },
  {
   "cell_type": "code",
   "execution_count": 6,
   "id": "2d94987c-56fd-41d9-84c5-edda18eb75e8",
   "metadata": {},
   "outputs": [],
   "source": [
    "# define generic parameters\n",
    "\n",
    "from transfermatrix.input import Polarization\n",
    "\n",
    "wavelengths = np.arange(400, 802, 2)\n",
    "angles = np.arange(0, 90, 1)\n",
    "polarization = Polarization.P"
   ]
  },
  {
   "cell_type": "code",
   "execution_count": 7,
   "id": "d307e988-abe2-4fe6-ab59-df118c7c1f7c",
   "metadata": {},
   "outputs": [
    {
     "name": "stdout",
     "output_type": "stream",
     "text": [
      "R = 0.04\n",
      "T = 0.96\n",
      "A = 0.0\n"
     ]
    }
   ],
   "source": [
    "# calculate RTA\n",
    "\n",
    "from transfermatrix.TransferMatrix import TransferMatrix\n",
    "\n",
    "\n",
    "def get_nk_list(layers: list[Layer], wavelengths: list[float]):\n",
    "    nk_list = []\n",
    "    for layer in layers:\n",
    "        n = np.interp(wavelengths, layer.wavelengths, layer.n)\n",
    "        k = np.interp(wavelengths, layer.wavelengths, layer.k)\n",
    "        nk_list.append(n + 1.j*k)\n",
    "    return nk_list\n",
    "\n",
    "\n",
    "tm = TransferMatrix(\n",
    "    nk_list=get_nk_list(layers, wavelengths),\n",
    "    thickness_list=[layer.thickness for layer in layers],\n",
    "    vacuum_wavelengths_list=wavelengths,\n",
    "    is_coherent_list=[layer.is_coherent for layer in layers]\n",
    ")\n",
    "tm.set_polarization(polarization)\n",
    "tm.set_angles(angles, layer_idx=0)\n",
    "tm.run_tm()\n",
    "\n",
    "R = np.round(tm.R[0][0], 3)\n",
    "T = np.round(tm.T[0][0], 3)\n",
    "A = np.round(1 - R - T, 3)\n",
    "\n",
    "print(f\"R = {R}\")\n",
    "print(f\"T = {T}\")\n",
    "print(f\"A = {A}\")"
   ]
  },
  {
   "cell_type": "code",
   "execution_count": null,
   "id": "59f31172-02dc-41b4-9b69-bf703edbedcd",
   "metadata": {},
   "outputs": [],
   "source": []
  }
 ],
 "metadata": {
  "kernelspec": {
   "display_name": "Python 3 (ipykernel)",
   "language": "python",
   "name": "python3"
  },
  "language_info": {
   "codemirror_mode": {
    "name": "ipython",
    "version": 3
   },
   "file_extension": ".py",
   "mimetype": "text/x-python",
   "name": "python",
   "nbconvert_exporter": "python",
   "pygments_lexer": "ipython3",
   "version": "3.10.14"
  }
 },
 "nbformat": 4,
 "nbformat_minor": 5
}
